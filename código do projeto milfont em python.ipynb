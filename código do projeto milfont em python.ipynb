{
 "cells": [
  {
   "cell_type": "code",
   "execution_count": 30,
   "id": "1660b7b4",
   "metadata": {},
   "outputs": [
    {
     "name": "stdout",
     "output_type": "stream",
     "text": [
      "Olá bem vindo!\n",
      "\n",
      "em um trajeto o quão importante é cada critério a seguir?\n",
      "\n",
      "Lembrando que a soma das 3 notas dos critérios deve ser um.\n",
      "\n",
      "Pavimentação:0.5\n",
      "Sinalização:0.3\n",
      "Distância:0.2\n",
      "média para o caminho a1 é: 0.08\n",
      "média para o caminho a2 é: 0.025000000000000005\n",
      "o caminho a1 é o melhor\n"
     ]
    }
   ],
   "source": [
    "print(\"Olá bem vindo!\\n\")\n",
    "print (\"em um trajeto o quão importante é cada critério a seguir?\\n\")\n",
    "print (\"Lembrando que a soma das 3 notas dos critérios deve ser um.\\n\")\n",
    "w1= float(input(\"Pavimentação:\"))\n",
    "w2= float(input(\"Sinalização:\"))\n",
    "w3= float(input(\"Distância:\"))\n",
    "if (w1+w2+w3)>1.0:\n",
    "    print(\"A soma dos critérios deve ser igual a 1\")\n",
    "    \n",
    "import numpy as np\n",
    "\n",
    "matriz= np.array([[0.1*w1,0.3*w2,0.2*w3],\n",
    "                  [0.3*w1,0.3*w2,0.3*w3],\n",
    "                  [0.1*w1,0.2*w2,0.2*w3]])\n",
    "\n",
    "\n",
    "r1= matriz[0, 0]\n",
    "r2= matriz[0, 1]\n",
    "r3= matriz[0, 2]\n",
    "r4= matriz[1, 0]\n",
    "r5= matriz[1, 1]\n",
    "r6= matriz[1, 2]\n",
    "r7= matriz[2, 0]\n",
    "r8= matriz[2, 1]\n",
    "r9= matriz[2, 2]\n",
    "\n",
    "matriz1= np.array([[(r1+r4)/2,(r2+r5)/2,(r3+r6)/2],\n",
    "                   [r7/2,r8/2,r9/2]])\n",
    "                    \n",
    "\n",
    "\n",
    "x1= matriz1[0][0]\n",
    "x2= matriz1[0][1]\n",
    "x3= matriz1[0][2]\n",
    "y1= matriz1[1][0]\n",
    "y2= matriz1[1][1]\n",
    "y3= matriz1[1][2]\n",
    "\n",
    "x=(x1+x2+x3)/3\n",
    "y=(y1+y2+y3)/3\n",
    "\n",
    "print(\"média para o caminho a1 é:\",x)\n",
    "print(\"média para o caminho a2 é:\",y)\n",
    "\n",
    "if x>y:\n",
    "    print(\"o caminho a1 é o melhor\")\n",
    "    \n",
    "else:\n",
    "    print(\"o caminho a2 é o melhor\")\n",
    "    \n",
    "                    "
   ]
  }
 ],
 "metadata": {
  "kernelspec": {
   "display_name": "Python 3 (ipykernel)",
   "language": "python",
   "name": "python3"
  },
  "language_info": {
   "codemirror_mode": {
    "name": "ipython",
    "version": 3
   },
   "file_extension": ".py",
   "mimetype": "text/x-python",
   "name": "python",
   "nbconvert_exporter": "python",
   "pygments_lexer": "ipython3",
   "version": "3.9.13"
  }
 },
 "nbformat": 4,
 "nbformat_minor": 5
}
